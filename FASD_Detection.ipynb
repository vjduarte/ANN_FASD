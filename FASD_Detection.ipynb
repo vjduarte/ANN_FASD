{
  "nbformat": 4,
  "nbformat_minor": 0,
  "metadata": {
    "colab": {
      "name": "Untitled",
      "provenance": [],
      "authorship_tag": "ABX9TyPj64At3PGvXUAekqM1RLSm",
      "include_colab_link": true
    },
    "kernelspec": {
      "name": "python3",
      "display_name": "Python 3"
    }
  },
  "cells": [
    {
      "cell_type": "markdown",
      "metadata": {
        "id": "view-in-github",
        "colab_type": "text"
      },
      "source": [
        "<a href=\"https://colab.research.google.com/github/vjduarte/ANN_FASD/blob/master/FASD_Detection.ipynb\" target=\"_parent\"><img src=\"https://colab.research.google.com/assets/colab-badge.svg\" alt=\"Open In Colab\"/></a>"
      ]
    },
    {
      "cell_type": "code",
      "metadata": {
        "id": "z-eaXOX7MxeF",
        "colab_type": "code",
        "colab": {
          "base_uri": "https://localhost:8080/",
          "height": 110
        },
        "outputId": "050b78c5-0756-44b0-ca46-85b02fee8160"
      },
      "source": [
        "!pip install colorama\n"
      ],
      "execution_count": null,
      "outputs": [
        {
          "output_type": "stream",
          "text": [
            "Collecting colorama\n",
            "  Downloading https://files.pythonhosted.org/packages/c9/dc/45cdef1b4d119eb96316b3117e6d5708a08029992b2fee2c143c7a0a5cc5/colorama-0.4.3-py2.py3-none-any.whl\n",
            "Installing collected packages: colorama\n",
            "Successfully installed colorama-0.4.3\n"
          ],
          "name": "stdout"
        }
      ]
    },
    {
      "cell_type": "code",
      "metadata": {
        "id": "N_p8TUPc1ZPv",
        "colab_type": "code",
        "colab": {}
      },
      "source": [
        "# before proceeding further.\n",
        "import tensorflow as tf\n",
        "import numpy as np\n",
        "import matplotlib.pyplot as plt\n",
        "\n",
        "import tensorflow_hub as hub\n",
        "import tensorflow_datasets as tfds\n",
        "\n",
        "from tensorflow.keras import layers\n",
        "from sklearn.model_selection import train_test_split\n",
        "import pandas as pd\n",
        "from colorama import init,Fore,Back,Style\n",
        "import keras\n",
        "from keras.datasets import mnist\n",
        "from keras.models import Sequential\n",
        "from keras.layers import Dense, Dropout, Flatten\n",
        "from keras.layers import Conv2D, MaxPooling2D\n",
        "from keras import backend as K\n",
        "from tensorflow.keras import layers\n",
        "from keras.layers import LeakyReLU\n"
      ],
      "execution_count": null,
      "outputs": []
    },
    {
      "cell_type": "code",
      "metadata": {
        "id": "0OLQB5jUMyPE",
        "colab_type": "code",
        "colab": {}
      },
      "source": [
        "import logging\n",
        "logger = tf.get_logger()\n",
        "logger.setLevel(logging.ERROR)"
      ],
      "execution_count": null,
      "outputs": []
    },
    {
      "cell_type": "code",
      "metadata": {
        "id": "N0MkjQgJ1h1V",
        "colab_type": "code",
        "colab": {
          "base_uri": "https://localhost:8080/",
          "height": 35
        },
        "outputId": "36822c9f-077a-4e16-c71b-819f50ed8994"
      },
      "source": [
        "trainPycho = pd.read_csv(r\"trainpycho1.csv\")\n",
        "\n",
        "trainPycoLabel=pd.read_csv(r\"trainpycholabel1.csv\")\n",
        "Train=trainPycho.to_numpy()\n",
        "TrainLabel=trainPycoLabel.to_numpy()\n",
        "print(TrainLabel.shape,Train.shape)"
      ],
      "execution_count": null,
      "outputs": [
        {
          "output_type": "stream",
          "text": [
            "(128, 1) (128, 20)\n"
          ],
          "name": "stdout"
        }
      ]
    },
    {
      "cell_type": "code",
      "metadata": {
        "id": "l4dSTpgVCbP9",
        "colab_type": "code",
        "colab": {
          "base_uri": "https://localhost:8080/",
          "height": 35
        },
        "outputId": "d3ed30b8-efbd-4ac3-96a6-2811136def66"
      },
      "source": [
        "trainPycho1 = pd.read_csv(r\"trainpycho.csv\")\n",
        "\n",
        "trainPycoLabel1=pd.read_csv(r\"trainpycholabel.csv\")\n",
        "input_train=trainPycho1.to_numpy()\n",
        "target_train=trainPycoLabel1.to_numpy()\n",
        "print(input_train.shape,target_train.shape)"
      ],
      "execution_count": null,
      "outputs": [
        {
          "output_type": "stream",
          "text": [
            "(82, 20) (82, 1)\n"
          ],
          "name": "stdout"
        }
      ]
    },
    {
      "cell_type": "code",
      "metadata": {
        "id": "Vc6AK4zxetb_",
        "colab_type": "code",
        "colab": {
          "base_uri": "https://localhost:8080/",
          "height": 35
        },
        "outputId": "8537b422-b617-422d-bb17-670866d6b05e"
      },
      "source": [
        "testPycho = pd.read_csv(r\"testpycho.csv\")\n",
        "testPycoLabel=pd.read_csv(r\"testpychoLabel.csv\")\n",
        "Test=testPycho.to_numpy()\n",
        "TestLabel=testPycoLabel.to_numpy()\n",
        "print(TestLabel.shape,Test.shape)"
      ],
      "execution_count": null,
      "outputs": [
        {
          "output_type": "stream",
          "text": [
            "(45, 1) (45, 20)\n"
          ],
          "name": "stdout"
        }
      ]
    },
    {
      "cell_type": "code",
      "metadata": {
        "id": "pEPu9lZrOVNe",
        "colab_type": "code",
        "colab": {}
      },
      "source": [
        "train_x, validation_x , train_y, validation_y = train_test_split(Train, TrainLabel, test_size=0.25, random_state=42)"
      ],
      "execution_count": null,
      "outputs": []
    },
    {
      "cell_type": "code",
      "metadata": {
        "id": "Nevb5X3IO9ft",
        "colab_type": "code",
        "colab": {
          "base_uri": "https://localhost:8080/",
          "height": 72
        },
        "outputId": "870425fb-65a6-4305-d14e-c3bd0ff1d1b4"
      },
      "source": [
        "num_training_examples = 0\n",
        "num_validation_examples = 0\n",
        "\n",
        "for example in train_x:\n",
        "  num_training_examples += 1\n",
        "\n",
        "for example in validation_x:\n",
        "  num_validation_examples += 1\n",
        "\n",
        "num_classes=2\n",
        "\n",
        "print('Total Number of Training: {}'.format(num_training_examples))\n",
        "print('Total Number of Validation: {} \\n'.format(num_validation_examples))"
      ],
      "execution_count": null,
      "outputs": [
        {
          "output_type": "stream",
          "text": [
            "Total Number of Training: 96\n",
            "Total Number of Validation: 32 \n",
            "\n"
          ],
          "name": "stdout"
        }
      ]
    },
    {
      "cell_type": "code",
      "metadata": {
        "id": "G4KZ8ZniTZpG",
        "colab_type": "code",
        "colab": {}
      },
      "source": [
        "model = tf.keras.models.Sequential([\n",
        "    tf.keras.layers.Dense(20, activation='sigmoid', input_shape=[20]),\n",
        "    tf.keras.layers.Dropout(0.2),\n",
        "    tf.keras.layers.Dense(15, activation='sigmoid'),\n",
        "    tf.keras.layers.Dropout(0.2),\n",
        "    tf.keras.layers.Dense(2,activation=tf.nn.softmax)\n",
        "])\n",
        "#tf.nn.softmax\n",
        "#activation=LeakyReLU(alpha=0.2)"
      ],
      "execution_count": null,
      "outputs": []
    },
    {
      "cell_type": "code",
      "metadata": {
        "id": "S9qebMJRWfN8",
        "colab_type": "code",
        "colab": {}
      },
      "source": [
        "model.compile(optimizer='adam', \n",
        "              loss='sparse_categorical_crossentropy',\n",
        "              metrics=['accuracy'])"
      ],
      "execution_count": null,
      "outputs": []
    },
    {
      "cell_type": "code",
      "metadata": {
        "id": "_P7U0HYGX016",
        "colab_type": "code",
        "colab": {
          "base_uri": "https://localhost:8080/",
          "height": 344
        },
        "outputId": "9307c88a-de60-4dce-8314-e5f439d82b25"
      },
      "source": [
        "model.summary()"
      ],
      "execution_count": null,
      "outputs": [
        {
          "output_type": "stream",
          "text": [
            "Model: \"sequential\"\n",
            "_________________________________________________________________\n",
            "Layer (type)                 Output Shape              Param #   \n",
            "=================================================================\n",
            "dense (Dense)                (None, 25)                525       \n",
            "_________________________________________________________________\n",
            "dropout (Dropout)            (None, 25)                0         \n",
            "_________________________________________________________________\n",
            "dense_1 (Dense)              (None, 20)                520       \n",
            "_________________________________________________________________\n",
            "dropout_1 (Dropout)          (None, 20)                0         \n",
            "_________________________________________________________________\n",
            "dense_2 (Dense)              (None, 2)                 42        \n",
            "=================================================================\n",
            "Total params: 1,087\n",
            "Trainable params: 1,087\n",
            "Non-trainable params: 0\n",
            "_________________________________________________________________\n"
          ],
          "name": "stdout"
        }
      ]
    },
    {
      "cell_type": "code",
      "metadata": {
        "id": "8wM9RNJF1aXH",
        "colab_type": "code",
        "colab": {
          "base_uri": "https://localhost:8080/",
          "height": 53
        },
        "outputId": "dd712c92-51ad-45d2-c8ce-6878d5f82caf"
      },
      "source": [
        "EPOCHS=1000\n",
        "validation_split = 0.2\n",
        "verbosity = 0\n",
        "history = model.fit(input_train,target_train,epochs=EPOCHS, verbose=verbosity,\n",
        "          validation_split=validation_split,validation_data=Test.all())\n",
        "print(\"Finished training the model\")\n",
        "score = model.evaluate(Test, TestLabel, verbose=0)\n",
        "print(f'Test loss for Keras Leaky ReLU CNN: {score[0]} / Test accuracy: {score[1]}')\n",
        "#model.weights"
      ],
      "execution_count": null,
      "outputs": [
        {
          "output_type": "stream",
          "text": [
            "Finished training the model\n",
            "Test loss for Keras Leaky ReLU CNN: 0.967512845993042 / Test accuracy: 0.6000000238418579\n"
          ],
          "name": "stdout"
        }
      ]
    },
    {
      "cell_type": "code",
      "metadata": {
        "id": "Kj9QUVk6Nj13",
        "colab_type": "code",
        "colab": {
          "base_uri": "https://localhost:8080/",
          "height": 573
        },
        "outputId": "9d7ed4e0-9f56-45b6-8356-7ed1f7124c02"
      },
      "source": [
        "# Visualize model history\n",
        "plt.plot(history.history['accuracy'], label='Precisión de Entrenamiento')\n",
        "plt.plot(history.history['val_accuracy'], label='Precisión de validación')\n",
        "plt.title('Leaky ReLU Entrenamiento / Precisión de validación')\n",
        "plt.ylabel('Precisiónn')\n",
        "plt.xlabel('Epocas')\n",
        "plt.legend(loc=\"upper left\")\n",
        "plt.show()\n",
        "\n",
        "plt.plot(history.history['loss'], label='Pérdida de Entrenamiento')\n",
        "plt.plot(history.history['val_loss'], label='Pérdida de validación')\n",
        "plt.title('Leaky ReLU Entrenamiento / Validación de los valores de perdida')\n",
        "plt.ylabel('Valores de pérdida')\n",
        "plt.xlabel('Epocas')\n",
        "plt.legend(loc=\"upper left\")\n",
        "plt.show()"
      ],
      "execution_count": null,
      "outputs": [
        {
          "output_type": "display_data",
          "data": {
            "image/png": "[encoded data removed]",
            "text/plain": [
              "<Figure size 432x288 with 1 Axes>"
            ]
          },
          "metadata": {
            "tags": [],
            "needs_background": "light"
          }
        },
        {
          "output_type": "display_data",
          "data": {
            "image/png": "[encoded data removed]",
            "text/plain": [
              "<Figure size 432x288 with 1 Axes>"
            ]
          },
          "metadata": {
            "tags": [],
            "needs_background": "light"
          }
        }
      ]
    },
    {
      "cell_type": "code",
      "metadata": {
        "id": "gFnTCjOGKjT-",
        "colab_type": "code",
        "colab": {}
      },
      "source": [
        "model1 = tf.keras.models.Sequential([\n",
        "    tf.keras.layers.Dense(4, activation='relu', input_shape=[20]),\n",
        "    tf.keras.layers.Dropout(0.4),\n",
        "    tf.keras.layers.Dense(4, activation='sigmoid'),\n",
        "    tf.keras.layers.Dropout(0.3),\n",
        "    tf.keras.layers.Dense(6, activation='sigmoid'),\n",
        "    tf.keras.layers.Dropout(0.2),\n",
        "    tf.keras.layers.Dense(6, activation='sigmoid'),\n",
        "    tf.keras.layers.Dropout(0.2),\n",
        "    tf.keras.layers.Dense(6, activation='sigmoid'),\n",
        "    tf.keras.layers.Dropout(0.2),\n",
        "    tf.keras.layers.Dense(6, activation='sigmoid'),\n",
        "    tf.keras.layers.Dropout(0.2),\n",
        "    tf.keras.layers.Dense(4, activation='sigmoid'),\n",
        "    tf.keras.layers.Dropout(0.2),\n",
        "    tf.keras.layers.Dense(4, activation='sigmoid'),\n",
        "    tf.keras.layers.Dropout(0.2),\n",
        "    tf.keras.layers.Dense(2,activation=tf.nn.softmax)\n",
        "])\n",
        "model1.compile(\n",
        "  optimizer='adam',\n",
        "  loss=tf.keras.losses.SparseCategoricalCrossentropy(from_logits=True),\n",
        "  metrics=['accuracy'])"
      ],
      "execution_count": null,
      "outputs": []
    },
    {
      "cell_type": "code",
      "metadata": {
        "id": "rLYrRjYEKoUI",
        "colab_type": "code",
        "colab": {
          "base_uri": "https://localhost:8080/",
          "height": 1000
        },
        "outputId": "5b579ff6-c189-40e5-a73a-a9b23e95ccff"
      },
      "source": [
        "EPOCHS=100\n",
        "validation_split = 0.3\n",
        "verbosity = 1\n",
        "history1 = model1.fit(input_train,target_train,epochs=EPOCHS, verbose=verbosity,\n",
        "          validation_split=validation_split,validation_data=Test.all())\n",
        "print(\"Finished training the model\")\n",
        "score1 = model.evaluate(Test, TestLabel, verbose=0)\n",
        "print(f'Test loss for Keras Leaky ReLU CNN: {score1[0]} / Test accuracy: {score1[1]}')\n",
        "model1.weights"
      ],
      "execution_count": null,
      "outputs": [
        {
          "output_type": "stream",
          "text": [
            "Epoch 1/100\n",
            "2/2 [==============================] - 0s 23ms/step - loss: 0.6968 - accuracy: 0.4737 - val_loss: 0.6971 - val_accuracy: 0.2400\n",
            "Epoch 2/100\n",
            "2/2 [==============================] - 0s 9ms/step - loss: 0.6959 - accuracy: 0.5088 - val_loss: 0.6976 - val_accuracy: 0.2400\n",
            "Epoch 3/100\n",
            "2/2 [==============================] - 0s 9ms/step - loss: 0.6901 - accuracy: 0.5088 - val_loss: 0.6981 - val_accuracy: 0.2400\n",
            "Epoch 4/100\n",
            "2/2 [==============================] - 0s 9ms/step - loss: 0.6842 - accuracy: 0.5263 - val_loss: 0.6986 - val_accuracy: 0.2400\n",
            "Epoch 5/100\n",
            "2/2 [==============================] - 0s 10ms/step - loss: 0.6949 - accuracy: 0.5088 - val_loss: 0.6991 - val_accuracy: 0.2400\n",
            "Epoch 6/100\n",
            "2/2 [==============================] - 0s 12ms/step - loss: 0.6976 - accuracy: 0.4386 - val_loss: 0.6995 - val_accuracy: 0.2400\n",
            "Epoch 7/100\n",
            "2/2 [==============================] - 0s 9ms/step - loss: 0.6983 - accuracy: 0.4912 - val_loss: 0.6998 - val_accuracy: 0.2400\n",
            "Epoch 8/100\n",
            "2/2 [==============================] - 0s 9ms/step - loss: 0.6937 - accuracy: 0.5263 - val_loss: 0.7003 - val_accuracy: 0.2400\n",
            "Epoch 9/100\n",
            "2/2 [==============================] - 0s 10ms/step - loss: 0.7024 - accuracy: 0.4035 - val_loss: 0.7009 - val_accuracy: 0.2400\n",
            "Epoch 10/100\n",
            "2/2 [==============================] - 0s 10ms/step - loss: 0.6776 - accuracy: 0.6140 - val_loss: 0.7013 - val_accuracy: 0.2400\n",
            "Epoch 11/100\n",
            "2/2 [==============================] - 0s 9ms/step - loss: 0.6827 - accuracy: 0.5789 - val_loss: 0.7017 - val_accuracy: 0.2400\n",
            "Epoch 12/100\n",
            "2/2 [==============================] - 0s 10ms/step - loss: 0.6966 - accuracy: 0.5263 - val_loss: 0.7019 - val_accuracy: 0.2400\n",
            "Epoch 13/100\n",
            "2/2 [==============================] - 0s 9ms/step - loss: 0.6826 - accuracy: 0.5439 - val_loss: 0.7022 - val_accuracy: 0.2400\n",
            "Epoch 14/100\n",
            "2/2 [==============================] - 0s 9ms/step - loss: 0.6953 - accuracy: 0.5439 - val_loss: 0.7024 - val_accuracy: 0.2400\n",
            "Epoch 15/100\n",
            "2/2 [==============================] - 0s 9ms/step - loss: 0.6931 - accuracy: 0.5614 - val_loss: 0.7026 - val_accuracy: 0.2400\n",
            "Epoch 16/100\n",
            "2/2 [==============================] - 0s 9ms/step - loss: 0.6943 - accuracy: 0.4561 - val_loss: 0.7028 - val_accuracy: 0.2400\n",
            "Epoch 17/100\n",
            "2/2 [==============================] - 0s 9ms/step - loss: 0.7115 - accuracy: 0.4035 - val_loss: 0.7030 - val_accuracy: 0.2400\n",
            "Epoch 18/100\n",
            "2/2 [==============================] - 0s 10ms/step - loss: 0.6876 - accuracy: 0.5614 - val_loss: 0.7033 - val_accuracy: 0.2400\n",
            "Epoch 19/100\n",
            "2/2 [==============================] - 0s 9ms/step - loss: 0.6911 - accuracy: 0.5263 - val_loss: 0.7036 - val_accuracy: 0.2400\n",
            "Epoch 20/100\n",
            "2/2 [==============================] - 0s 10ms/step - loss: 0.6855 - accuracy: 0.5614 - val_loss: 0.7039 - val_accuracy: 0.2400\n",
            "Epoch 21/100\n",
            "2/2 [==============================] - 0s 10ms/step - loss: 0.7058 - accuracy: 0.4737 - val_loss: 0.7042 - val_accuracy: 0.2400\n",
            "Epoch 22/100\n",
            "2/2 [==============================] - 0s 10ms/step - loss: 0.6922 - accuracy: 0.4737 - val_loss: 0.7044 - val_accuracy: 0.2400\n",
            "Epoch 23/100\n",
            "2/2 [==============================] - 0s 9ms/step - loss: 0.6887 - accuracy: 0.5088 - val_loss: 0.7047 - val_accuracy: 0.2400\n",
            "Epoch 24/100\n",
            "2/2 [==============================] - 0s 10ms/step - loss: 0.6911 - accuracy: 0.5088 - val_loss: 0.7048 - val_accuracy: 0.2400\n",
            "Epoch 25/100\n",
            "2/2 [==============================] - 0s 10ms/step - loss: 0.7003 - accuracy: 0.4737 - val_loss: 0.7050 - val_accuracy: 0.2400\n",
            "Epoch 26/100\n",
            "2/2 [==============================] - 0s 9ms/step - loss: 0.7060 - accuracy: 0.4912 - val_loss: 0.7053 - val_accuracy: 0.2400\n",
            "Epoch 27/100\n",
            "2/2 [==============================] - 0s 10ms/step - loss: 0.6885 - accuracy: 0.5439 - val_loss: 0.7055 - val_accuracy: 0.2400\n",
            "Epoch 28/100\n",
            "2/2 [==============================] - 0s 10ms/step - loss: 0.6951 - accuracy: 0.4561 - val_loss: 0.7057 - val_accuracy: 0.2400\n",
            "Epoch 29/100\n",
            "2/2 [==============================] - 0s 9ms/step - loss: 0.6908 - accuracy: 0.5965 - val_loss: 0.7059 - val_accuracy: 0.2400\n",
            "Epoch 30/100\n",
            "2/2 [==============================] - 0s 9ms/step - loss: 0.6850 - accuracy: 0.5789 - val_loss: 0.7061 - val_accuracy: 0.2400\n",
            "Epoch 31/100\n",
            "2/2 [==============================] - 0s 9ms/step - loss: 0.6903 - accuracy: 0.4912 - val_loss: 0.7064 - val_accuracy: 0.2400\n",
            "Epoch 32/100\n",
            "2/2 [==============================] - 0s 9ms/step - loss: 0.6829 - accuracy: 0.5789 - val_loss: 0.7067 - val_accuracy: 0.2400\n",
            "Epoch 33/100\n",
            "2/2 [==============================] - 0s 10ms/step - loss: 0.6923 - accuracy: 0.5614 - val_loss: 0.7071 - val_accuracy: 0.2400\n",
            "Epoch 34/100\n",
            "2/2 [==============================] - 0s 11ms/step - loss: 0.7040 - accuracy: 0.4912 - val_loss: 0.7073 - val_accuracy: 0.2400\n",
            "Epoch 35/100\n",
            "2/2 [==============================] - 0s 9ms/step - loss: 0.6941 - accuracy: 0.5088 - val_loss: 0.7074 - val_accuracy: 0.2400\n",
            "Epoch 36/100\n",
            "2/2 [==============================] - 0s 9ms/step - loss: 0.7084 - accuracy: 0.5088 - val_loss: 0.7077 - val_accuracy: 0.2400\n",
            "Epoch 37/100\n",
            "2/2 [==============================] - 0s 9ms/step - loss: 0.6974 - accuracy: 0.5088 - val_loss: 0.7080 - val_accuracy: 0.2400\n",
            "Epoch 38/100\n",
            "2/2 [==============================] - 0s 10ms/step - loss: 0.6911 - accuracy: 0.5965 - val_loss: 0.7084 - val_accuracy: 0.2400\n",
            "Epoch 39/100\n",
            "2/2 [==============================] - 0s 9ms/step - loss: 0.6973 - accuracy: 0.4912 - val_loss: 0.7088 - val_accuracy: 0.2400\n",
            "Epoch 40/100\n",
            "2/2 [==============================] - 0s 9ms/step - loss: 0.6924 - accuracy: 0.5088 - val_loss: 0.7092 - val_accuracy: 0.2400\n",
            "Epoch 41/100\n",
            "2/2 [==============================] - 0s 10ms/step - loss: 0.6891 - accuracy: 0.5263 - val_loss: 0.7095 - val_accuracy: 0.2400\n",
            "Epoch 42/100\n",
            "2/2 [==============================] - 0s 10ms/step - loss: 0.6947 - accuracy: 0.5088 - val_loss: 0.7098 - val_accuracy: 0.2400\n",
            "Epoch 43/100\n",
            "2/2 [==============================] - 0s 10ms/step - loss: 0.6793 - accuracy: 0.5789 - val_loss: 0.7102 - val_accuracy: 0.2400\n",
            "Epoch 44/100\n",
            "2/2 [==============================] - 0s 12ms/step - loss: 0.7011 - accuracy: 0.5088 - val_loss: 0.7105 - val_accuracy: 0.2400\n",
            "Epoch 45/100\n",
            "2/2 [==============================] - 0s 9ms/step - loss: 0.7011 - accuracy: 0.4737 - val_loss: 0.7107 - val_accuracy: 0.2400\n",
            "Epoch 46/100\n",
            "2/2 [==============================] - 0s 10ms/step - loss: 0.6780 - accuracy: 0.5789 - val_loss: 0.7110 - val_accuracy: 0.2400\n",
            "Epoch 47/100\n",
            "2/2 [==============================] - 0s 9ms/step - loss: 0.6886 - accuracy: 0.5439 - val_loss: 0.7113 - val_accuracy: 0.2400\n",
            "Epoch 48/100\n",
            "2/2 [==============================] - 0s 9ms/step - loss: 0.7005 - accuracy: 0.5088 - val_loss: 0.7117 - val_accuracy: 0.2400\n",
            "Epoch 49/100\n",
            "2/2 [==============================] - 0s 9ms/step - loss: 0.7051 - accuracy: 0.5439 - val_loss: 0.7121 - val_accuracy: 0.2400\n",
            "Epoch 50/100\n",
            "2/2 [==============================] - 0s 9ms/step - loss: 0.6817 - accuracy: 0.5614 - val_loss: 0.7125 - val_accuracy: 0.2400\n",
            "Epoch 51/100\n",
            "2/2 [==============================] - 0s 9ms/step - loss: 0.6879 - accuracy: 0.5789 - val_loss: 0.7126 - val_accuracy: 0.2400\n",
            "Epoch 52/100\n",
            "2/2 [==============================] - 0s 9ms/step - loss: 0.6922 - accuracy: 0.5439 - val_loss: 0.7129 - val_accuracy: 0.2400\n",
            "Epoch 53/100\n",
            "2/2 [==============================] - 0s 10ms/step - loss: 0.7063 - accuracy: 0.5088 - val_loss: 0.7132 - val_accuracy: 0.2400\n",
            "Epoch 54/100\n",
            "2/2 [==============================] - 0s 9ms/step - loss: 0.6809 - accuracy: 0.6140 - val_loss: 0.7134 - val_accuracy: 0.2400\n",
            "Epoch 55/100\n",
            "2/2 [==============================] - 0s 9ms/step - loss: 0.6870 - accuracy: 0.5614 - val_loss: 0.7137 - val_accuracy: 0.2400\n",
            "Epoch 56/100\n",
            "2/2 [==============================] - 0s 10ms/step - loss: 0.6853 - accuracy: 0.5439 - val_loss: 0.7138 - val_accuracy: 0.2400\n",
            "Epoch 57/100\n",
            "2/2 [==============================] - 0s 9ms/step - loss: 0.6875 - accuracy: 0.5088 - val_loss: 0.7140 - val_accuracy: 0.2400\n",
            "Epoch 58/100\n",
            "2/2 [==============================] - 0s 9ms/step - loss: 0.7038 - accuracy: 0.5263 - val_loss: 0.7143 - val_accuracy: 0.2400\n",
            "Epoch 59/100\n",
            "2/2 [==============================] - 0s 11ms/step - loss: 0.6921 - accuracy: 0.5439 - val_loss: 0.7145 - val_accuracy: 0.2400\n",
            "Epoch 60/100\n",
            "2/2 [==============================] - 0s 9ms/step - loss: 0.6845 - accuracy: 0.5439 - val_loss: 0.7148 - val_accuracy: 0.2400\n",
            "Epoch 61/100\n",
            "2/2 [==============================] - 0s 9ms/step - loss: 0.7080 - accuracy: 0.4912 - val_loss: 0.7150 - val_accuracy: 0.2400\n",
            "Epoch 62/100\n",
            "2/2 [==============================] - 0s 9ms/step - loss: 0.6840 - accuracy: 0.5263 - val_loss: 0.7151 - val_accuracy: 0.2400\n",
            "Epoch 63/100\n",
            "2/2 [==============================] - 0s 10ms/step - loss: 0.6970 - accuracy: 0.5439 - val_loss: 0.7154 - val_accuracy: 0.2400\n",
            "Epoch 64/100\n",
            "2/2 [==============================] - 0s 9ms/step - loss: 0.6953 - accuracy: 0.4737 - val_loss: 0.7157 - val_accuracy: 0.2400\n",
            "Epoch 65/100\n",
            "2/2 [==============================] - 0s 10ms/step - loss: 0.6912 - accuracy: 0.5263 - val_loss: 0.7158 - val_accuracy: 0.2400\n",
            "Epoch 66/100\n",
            "2/2 [==============================] - 0s 10ms/step - loss: 0.6879 - accuracy: 0.5439 - val_loss: 0.7161 - val_accuracy: 0.2400\n",
            "Epoch 67/100\n",
            "2/2 [==============================] - 0s 9ms/step - loss: 0.6949 - accuracy: 0.5088 - val_loss: 0.7163 - val_accuracy: 0.2400\n",
            "Epoch 68/100\n",
            "2/2 [==============================] - 0s 10ms/step - loss: 0.6901 - accuracy: 0.5088 - val_loss: 0.7166 - val_accuracy: 0.2400\n",
            "Epoch 69/100\n",
            "2/2 [==============================] - 0s 9ms/step - loss: 0.6952 - accuracy: 0.4912 - val_loss: 0.7169 - val_accuracy: 0.2400\n",
            "Epoch 70/100\n",
            "2/2 [==============================] - 0s 9ms/step - loss: 0.6928 - accuracy: 0.4912 - val_loss: 0.7169 - val_accuracy: 0.2400\n",
            "Epoch 71/100\n",
            "2/2 [==============================] - 0s 13ms/step - loss: 0.6789 - accuracy: 0.6491 - val_loss: 0.7171 - val_accuracy: 0.2400\n",
            "Epoch 72/100\n",
            "2/2 [==============================] - 0s 11ms/step - loss: 0.6950 - accuracy: 0.4737 - val_loss: 0.7172 - val_accuracy: 0.2400\n",
            "Epoch 73/100\n",
            "2/2 [==============================] - 0s 10ms/step - loss: 0.7069 - accuracy: 0.4386 - val_loss: 0.7173 - val_accuracy: 0.2400\n",
            "Epoch 74/100\n",
            "2/2 [==============================] - 0s 10ms/step - loss: 0.6992 - accuracy: 0.4386 - val_loss: 0.7174 - val_accuracy: 0.2400\n",
            "Epoch 75/100\n",
            "2/2 [==============================] - 0s 9ms/step - loss: 0.7014 - accuracy: 0.4912 - val_loss: 0.7176 - val_accuracy: 0.2400\n",
            "Epoch 76/100\n",
            "2/2 [==============================] - 0s 9ms/step - loss: 0.6954 - accuracy: 0.5263 - val_loss: 0.7178 - val_accuracy: 0.2400\n",
            "Epoch 77/100\n",
            "2/2 [==============================] - 0s 9ms/step - loss: 0.6885 - accuracy: 0.5263 - val_loss: 0.7180 - val_accuracy: 0.2400\n",
            "Epoch 78/100\n",
            "2/2 [==============================] - 0s 9ms/step - loss: 0.6918 - accuracy: 0.5263 - val_loss: 0.7182 - val_accuracy: 0.2400\n",
            "Epoch 79/100\n",
            "2/2 [==============================] - 0s 10ms/step - loss: 0.6902 - accuracy: 0.4737 - val_loss: 0.7184 - val_accuracy: 0.2400\n",
            "Epoch 80/100\n",
            "2/2 [==============================] - 0s 10ms/step - loss: 0.6778 - accuracy: 0.5263 - val_loss: 0.7186 - val_accuracy: 0.2400\n",
            "Epoch 81/100\n",
            "2/2 [==============================] - 0s 9ms/step - loss: 0.6993 - accuracy: 0.5088 - val_loss: 0.7188 - val_accuracy: 0.2400\n",
            "Epoch 82/100\n",
            "2/2 [==============================] - 0s 10ms/step - loss: 0.6941 - accuracy: 0.5614 - val_loss: 0.7190 - val_accuracy: 0.2400\n",
            "Epoch 83/100\n",
            "2/2 [==============================] - 0s 10ms/step - loss: 0.7003 - accuracy: 0.4737 - val_loss: 0.7192 - val_accuracy: 0.2400\n",
            "Epoch 84/100\n",
            "2/2 [==============================] - 0s 10ms/step - loss: 0.6776 - accuracy: 0.6140 - val_loss: 0.7195 - val_accuracy: 0.2400\n",
            "Epoch 85/100\n",
            "2/2 [==============================] - 0s 14ms/step - loss: 0.6887 - accuracy: 0.4912 - val_loss: 0.7196 - val_accuracy: 0.2400\n",
            "Epoch 86/100\n",
            "2/2 [==============================] - 0s 11ms/step - loss: 0.7045 - accuracy: 0.5614 - val_loss: 0.7199 - val_accuracy: 0.2400\n",
            "Epoch 87/100\n",
            "2/2 [==============================] - 0s 9ms/step - loss: 0.6924 - accuracy: 0.5439 - val_loss: 0.7201 - val_accuracy: 0.2400\n",
            "Epoch 88/100\n",
            "2/2 [==============================] - 0s 9ms/step - loss: 0.6924 - accuracy: 0.5088 - val_loss: 0.7203 - val_accuracy: 0.2400\n",
            "Epoch 89/100\n",
            "2/2 [==============================] - 0s 9ms/step - loss: 0.6912 - accuracy: 0.5614 - val_loss: 0.7206 - val_accuracy: 0.2400\n",
            "Epoch 90/100\n",
            "2/2 [==============================] - 0s 9ms/step - loss: 0.6888 - accuracy: 0.5614 - val_loss: 0.7207 - val_accuracy: 0.2400\n",
            "Epoch 91/100\n",
            "2/2 [==============================] - 0s 10ms/step - loss: 0.6852 - accuracy: 0.5965 - val_loss: 0.7208 - val_accuracy: 0.2400\n",
            "Epoch 92/100\n",
            "2/2 [==============================] - 0s 9ms/step - loss: 0.6925 - accuracy: 0.5614 - val_loss: 0.7210 - val_accuracy: 0.2400\n",
            "Epoch 93/100\n",
            "2/2 [==============================] - 0s 9ms/step - loss: 0.6977 - accuracy: 0.5263 - val_loss: 0.7211 - val_accuracy: 0.2400\n",
            "Epoch 94/100\n",
            "2/2 [==============================] - 0s 9ms/step - loss: 0.6834 - accuracy: 0.5263 - val_loss: 0.7211 - val_accuracy: 0.2400\n",
            "Epoch 95/100\n",
            "2/2 [==============================] - 0s 10ms/step - loss: 0.6943 - accuracy: 0.5263 - val_loss: 0.7211 - val_accuracy: 0.2400\n",
            "Epoch 96/100\n",
            "2/2 [==============================] - 0s 10ms/step - loss: 0.6903 - accuracy: 0.5088 - val_loss: 0.7211 - val_accuracy: 0.2400\n",
            "Epoch 97/100\n",
            "2/2 [==============================] - 0s 10ms/step - loss: 0.7162 - accuracy: 0.3684 - val_loss: 0.7210 - val_accuracy: 0.2400\n",
            "Epoch 98/100\n",
            "2/2 [==============================] - 0s 9ms/step - loss: 0.6974 - accuracy: 0.4912 - val_loss: 0.7210 - val_accuracy: 0.2400\n",
            "Epoch 99/100\n",
            "2/2 [==============================] - 0s 11ms/step - loss: 0.6933 - accuracy: 0.5789 - val_loss: 0.7211 - val_accuracy: 0.2400\n",
            "Epoch 100/100\n",
            "2/2 [==============================] - 0s 10ms/step - loss: 0.6970 - accuracy: 0.5088 - val_loss: 0.7212 - val_accuracy: 0.2400\n",
            "Finished training the model\n",
            "Test loss for Keras Leaky ReLU CNN: 0.7388070225715637 / Test accuracy: 0.6888889074325562\n"
          ],
          "name": "stdout"
        },
        {
          "output_type": "execute_result",
          "data": {
            "text/plain": [
              "[<tf.Variable 'dense_45/kernel:0' shape=(20, 4) dtype=float32, numpy=\n",
              " array([[-0.27206922, -0.483668  , -0.05529681, -0.42369163],\n",
              "        [ 0.18061447, -0.10291738, -0.25235307,  0.14890337],\n",
              "        [-0.22682118,  0.16838269, -0.2627365 , -0.07811832],\n",
              "        [ 0.3317412 , -0.11689407,  0.36941698,  0.18672323],\n",
              "        [ 0.18106699,  0.06372487,  0.5187195 ,  0.15840113],\n",
              "        [-0.04760718, -0.38696867, -0.20161116, -0.22855568],\n",
              "        [-0.4696107 ,  0.34915724, -0.06398179,  0.16531551],\n",
              "        [ 0.29464233,  0.32174176, -0.24671866, -0.26352835],\n",
              "        [-0.28850484,  0.49451476, -0.49746296,  0.36510313],\n",
              "        [-0.09589255,  0.32648855,  0.12523335, -0.24280667],\n",
              "        [ 0.17373931,  0.26256916,  0.32341903, -0.43293858],\n",
              "        [-0.25326467, -0.11933803,  0.17038707, -0.22131717],\n",
              "        [ 0.37368286, -0.24518122, -0.06829606, -0.38886964],\n",
              "        [-0.03942442,  0.16488467, -0.0136493 , -0.2544663 ],\n",
              "        [-0.31767738, -0.47305617,  0.33344036, -0.42541087],\n",
              "        [ 0.22449565,  0.40599892, -0.04245751, -0.12752044],\n",
              "        [-0.36573362, -0.07606435,  0.5146418 , -0.35684717],\n",
              "        [-0.17090487,  0.24394673,  0.3446326 , -0.17968833],\n",
              "        [ 0.13116872,  0.24924068,  0.1702319 , -0.02726042],\n",
              "        [-0.15900886,  0.4144744 , -0.14316775,  0.08694398]],\n",
              "       dtype=float32)>,\n",
              " <tf.Variable 'dense_45/bias:0' shape=(4,) dtype=float32, numpy=array([ 0.        , -0.01155999,  0.0114737 ,  0.        ], dtype=float32)>,\n",
              " <tf.Variable 'dense_46/kernel:0' shape=(4, 4) dtype=float32, numpy=\n",
              " array([[-0.84444755,  0.28701764, -0.75083107,  0.64228123],\n",
              "        [-0.8199419 ,  0.6134403 ,  0.83907527, -0.48404503],\n",
              "        [-0.21664262, -0.6313504 ,  0.07218543, -0.21106261],\n",
              "        [-0.15409243, -0.5385001 ,  0.6135071 , -0.66304946]],\n",
              "       dtype=float32)>,\n",
              " <tf.Variable 'dense_46/bias:0' shape=(4,) dtype=float32, numpy=array([ 0.04287063, -0.00128873, -0.00613205, -0.00708212], dtype=float32)>,\n",
              " <tf.Variable 'dense_47/kernel:0' shape=(4, 6) dtype=float32, numpy=\n",
              " array([[ 0.5728028 , -0.67588043, -0.4132861 ,  0.13241659,  0.08654048,\n",
              "          0.7733852 ],\n",
              "        [-0.10686973, -0.6266492 , -0.59184456, -0.5068558 , -0.14343469,\n",
              "          0.4584382 ],\n",
              "        [ 0.5925266 , -0.14532831,  0.55246174,  0.17195521, -0.25242725,\n",
              "         -0.3603159 ],\n",
              "        [ 0.6699794 , -0.4915508 , -0.12829123, -0.10023482,  0.22795182,\n",
              "         -0.63574624]], dtype=float32)>,\n",
              " <tf.Variable 'dense_47/bias:0' shape=(6,) dtype=float32, numpy=\n",
              " array([ 0.06141825,  0.01821959, -0.09534023,  0.13764137, -0.04567558,\n",
              "         0.04956954], dtype=float32)>,\n",
              " <tf.Variable 'dense_48/kernel:0' shape=(6, 6) dtype=float32, numpy=\n",
              " array([[ 0.21125704, -0.6673102 ,  0.02806925,  0.3897849 , -0.3800606 ,\n",
              "         -0.01660241],\n",
              "        [ 0.4923628 , -0.4681929 ,  0.3622091 , -0.19616544,  0.51083595,\n",
              "         -0.37847897],\n",
              "        [ 0.6116831 ,  0.60566074, -0.40243712, -0.00090284,  0.2711282 ,\n",
              "         -0.7264759 ],\n",
              "        [ 0.6705935 , -0.5711711 ,  0.58784646, -0.73102885, -0.4983801 ,\n",
              "          0.04691743],\n",
              "        [ 0.62840253,  0.5683193 , -0.15235476, -0.78750736,  0.09918633,\n",
              "          0.03357469],\n",
              "        [-0.43647742,  0.30338585,  0.35717428,  0.55354184, -0.03564156,\n",
              "         -0.538125  ]], dtype=float32)>,\n",
              " <tf.Variable 'dense_48/bias:0' shape=(6,) dtype=float32, numpy=\n",
              " array([ 0.09344751, -0.03909147,  0.12632012, -0.09420378, -0.11891314,\n",
              "        -0.0701273 ], dtype=float32)>,\n",
              " <tf.Variable 'dense_49/kernel:0' shape=(6, 6) dtype=float32, numpy=\n",
              " array([[ 0.06214726,  0.45447078, -0.48951414,  0.18297724, -0.28677917,\n",
              "          0.45541888],\n",
              "        [-0.17265247,  0.19057807, -0.46609628, -0.5675756 ,  0.34630919,\n",
              "         -0.44815665],\n",
              "        [-0.6308165 , -0.02585417,  0.2663143 , -0.58445585, -0.437833  ,\n",
              "          0.6180171 ],\n",
              "        [-0.48118073, -0.11261809,  0.01850185,  0.53115237, -0.03229266,\n",
              "         -0.31122077],\n",
              "        [ 0.46973455,  0.28190255, -0.43139446,  0.12980445,  0.5941421 ,\n",
              "         -0.30589524],\n",
              "        [-0.6120758 , -0.16581838, -0.1291087 ,  0.2872099 ,  0.5120222 ,\n",
              "         -0.3192406 ]], dtype=float32)>,\n",
              " <tf.Variable 'dense_49/bias:0' shape=(6,) dtype=float32, numpy=\n",
              " array([-0.11624374,  0.07799321,  0.04625919, -0.11687391, -0.06027261,\n",
              "         0.13812207], dtype=float32)>,\n",
              " <tf.Variable 'dense_50/kernel:0' shape=(6, 6) dtype=float32, numpy=\n",
              " array([[ 0.67760545, -0.5808786 ,  0.06800606,  0.44068542,  0.4740957 ,\n",
              "          0.44734034],\n",
              "        [-0.45956478,  0.8211963 , -0.07819157, -0.09938257,  0.6821451 ,\n",
              "          0.304433  ],\n",
              "        [ 0.6793262 , -0.08812505,  0.24861875, -0.82276845,  0.39148518,\n",
              "          0.4489094 ],\n",
              "        [-0.19807105, -0.3476173 , -0.28152716, -0.70347273,  0.26796746,\n",
              "         -0.13648988],\n",
              "        [-0.02882205, -0.07554501,  0.35107526,  0.00847986, -0.5602814 ,\n",
              "          0.30932146],\n",
              "        [ 0.4040199 , -0.10884026,  0.84854513, -0.7946891 , -0.32157704,\n",
              "         -0.47440645]], dtype=float32)>,\n",
              " <tf.Variable 'dense_50/bias:0' shape=(6,) dtype=float32, numpy=\n",
              " array([ 0.04945904,  0.12952268,  0.15044886, -0.12844864,  0.01918902,\n",
              "        -0.15678674], dtype=float32)>,\n",
              " <tf.Variable 'dense_51/kernel:0' shape=(6, 4) dtype=float32, numpy=\n",
              " array([[-0.09911683,  0.18384144, -0.46217632, -0.3718005 ],\n",
              "        [-0.43277255, -0.7272957 , -0.80522156, -0.6782103 ],\n",
              "        [ 0.66192687, -0.00576534, -0.75468594, -0.40373102],\n",
              "        [-0.33484858,  0.04211936,  0.03391955,  0.09619678],\n",
              "        [-0.35941067, -0.6196463 , -0.10201337,  0.6522644 ],\n",
              "        [-0.59510577,  0.1205297 , -0.16510685,  0.2696644 ]],\n",
              "       dtype=float32)>,\n",
              " <tf.Variable 'dense_51/bias:0' shape=(4,) dtype=float32, numpy=array([ 0.1725395 , -0.13671714, -0.12345727, -0.1151611 ], dtype=float32)>,\n",
              " <tf.Variable 'dense_52/kernel:0' shape=(4, 4) dtype=float32, numpy=\n",
              " array([[-0.3438397 , -0.6449772 , -0.95901245, -0.38473982],\n",
              "        [ 0.65186405,  0.5405666 , -0.08766942,  0.35555738],\n",
              "        [ 0.37355858,  0.82428855,  0.6192416 ,  0.65517056],\n",
              "        [ 0.3334809 , -0.12102529,  0.21403861, -0.8160898 ]],\n",
              "       dtype=float32)>,\n",
              " <tf.Variable 'dense_52/bias:0' shape=(4,) dtype=float32, numpy=array([-0.18257914,  0.17452936, -0.15314111, -0.15321158], dtype=float32)>,\n",
              " <tf.Variable 'dense_53/kernel:0' shape=(4, 2) dtype=float32, numpy=\n",
              " array([[ 0.05285711, -0.5181225 ],\n",
              "        [ 0.1548527 ,  0.7406323 ],\n",
              "        [ 0.7900541 ,  0.5441099 ],\n",
              "        [ 0.45497608,  0.2501182 ]], dtype=float32)>,\n",
              " <tf.Variable 'dense_53/bias:0' shape=(2,) dtype=float32, numpy=array([-0.18304998,  0.18304998], dtype=float32)>]"
            ]
          },
          "metadata": {
            "tags": []
          },
          "execution_count": 64
        }
      ]
    },
    {
      "cell_type": "code",
      "metadata": {
        "id": "sHC-RWLcMKyQ",
        "colab_type": "code",
        "colab": {
          "base_uri": "https://localhost:8080/",
          "height": 285
        },
        "outputId": "4312a312-4398-41c7-ec2c-462a0321d33e"
      },
      "source": [
        "import matplotlib.pyplot as plt\n",
        "acc = history.history['accuracy']\n",
        "\n",
        "loss = history.history['loss']\n",
        "epochs_range = range(EPOCHS)\n",
        "\n",
        "plt.figure()\n",
        "plt.subplot(1, 2, 1)\n",
        "plt.plot(epochs_range, acc, label='Training Accuracy')\n",
        "\n",
        "plt.subplot(1, 2, 2)\n",
        "plt.plot(epochs_range, loss, label='Training Loss')"
      ],
      "execution_count": null,
      "outputs": [
        {
          "output_type": "execute_result",
          "data": {
            "text/plain": [
              "[<matplotlib.lines.Line2D at 0x7f62012820b8>]"
            ]
          },
          "metadata": {
            "tags": []
          },
          "execution_count": 26
        },
        {
          "output_type": "display_data",
          "data": {
            "image/png": "[encoded data removed]",
            "text/plain": [
              "<Figure size 432x288 with 2 Axes>"
            ]
          },
          "metadata": {
            "tags": [],
            "needs_background": "light"
          }
        }
      ]
    },
    {
      "cell_type": "code",
      "metadata": {
        "id": "zLZbj1ExMKvK",
        "colab_type": "code",
        "colab": {}
      },
      "source": [
        "predictionsTest = model.predict(Test)"
      ],
      "execution_count": null,
      "outputs": []
    },
    {
      "cell_type": "code",
      "metadata": {
        "id": "xcl-i_UKqOai",
        "colab_type": "code",
        "colab": {
          "base_uri": "https://localhost:8080/",
          "height": 889
        },
        "outputId": "1d661809-4505-43a3-90f0-de67c43ce8aa"
      },
      "source": [
        "from colorama import init,Fore,Back,Style\n",
        "count=0\n",
        "Total=0\n",
        "con_fas=0\n",
        "fas_con=0\n",
        "con_con=0\n",
        "fas_fas=0\n",
        "for i,c in enumerate(predictionsTest):\n",
        "    Total=Total+1\n",
        "    if(np.argmax(predictionsTest[i])==TestLabel[i]):\n",
        "      count=count+1\n",
        "      if(np.argmax(predictionsTest[i])==0):\n",
        "        con_con=con_con+1\n",
        "      else:\n",
        "        fas_fas=fas_fas+1\n",
        "      print(Fore.BLUE+Back.WHITE+\"{} Resultados = {} Prediccion\".format(np.argmax(c), TestLabel[i]))\n",
        "    else:\n",
        "      if(np.argmax(predictionsTest[i])==0):\n",
        "        con_fas=con_fas+1\n",
        "      else:\n",
        "        fas_con=fas_con+1\n",
        "      print(Fore.RED+\"{} Resultados = {} Prediccion\".format(np.argmax(c), TestLabel[i]))\n",
        "print(count/Total)\n",
        "print(fas_fas/Total,fas_con/Total)\n",
        "print(con_fas/Total,con_con/Total)"
      ],
      "execution_count": null,
      "outputs": [
        {
          "output_type": "stream",
          "text": [
            "\u001b[31m1 Resultados = [0] Prediccion\n",
            "\u001b[31m1 Resultados = [0] Prediccion\n",
            "\u001b[34m\u001b[47m0 Resultados = [0] Prediccion\n",
            "\u001b[34m\u001b[47m0 Resultados = [0] Prediccion\n",
            "\u001b[34m\u001b[47m0 Resultados = [0] Prediccion\n",
            "\u001b[34m\u001b[47m0 Resultados = [0] Prediccion\n",
            "\u001b[31m1 Resultados = [0] Prediccion\n",
            "\u001b[31m1 Resultados = [0] Prediccion\n",
            "\u001b[31m1 Resultados = [0] Prediccion\n",
            "\u001b[31m1 Resultados = [0] Prediccion\n",
            "\u001b[34m\u001b[47m0 Resultados = [0] Prediccion\n",
            "\u001b[34m\u001b[47m0 Resultados = [0] Prediccion\n",
            "\u001b[34m\u001b[47m0 Resultados = [0] Prediccion\n",
            "\u001b[31m1 Resultados = [0] Prediccion\n",
            "\u001b[34m\u001b[47m0 Resultados = [0] Prediccion\n",
            "\u001b[34m\u001b[47m0 Resultados = [0] Prediccion\n",
            "\u001b[34m\u001b[47m0 Resultados = [0] Prediccion\n",
            "\u001b[34m\u001b[47m0 Resultados = [0] Prediccion\n",
            "\u001b[34m\u001b[47m0 Resultados = [0] Prediccion\n",
            "\u001b[34m\u001b[47m0 Resultados = [0] Prediccion\n",
            "\u001b[34m\u001b[47m0 Resultados = [0] Prediccion\n",
            "\u001b[31m1 Resultados = [0] Prediccion\n",
            "\u001b[34m\u001b[47m0 Resultados = [0] Prediccion\n",
            "\u001b[34m\u001b[47m1 Resultados = [1] Prediccion\n",
            "\u001b[34m\u001b[47m1 Resultados = [1] Prediccion\n",
            "\u001b[34m\u001b[47m1 Resultados = [1] Prediccion\n",
            "\u001b[31m0 Resultados = [1] Prediccion\n",
            "\u001b[34m\u001b[47m1 Resultados = [1] Prediccion\n",
            "\u001b[34m\u001b[47m1 Resultados = [1] Prediccion\n",
            "\u001b[31m0 Resultados = [1] Prediccion\n",
            "\u001b[34m\u001b[47m1 Resultados = [1] Prediccion\n",
            "\u001b[34m\u001b[47m1 Resultados = [1] Prediccion\n",
            "\u001b[34m\u001b[47m1 Resultados = [1] Prediccion\n",
            "\u001b[34m\u001b[47m1 Resultados = [1] Prediccion\n",
            "\u001b[34m\u001b[47m1 Resultados = [1] Prediccion\n",
            "\u001b[34m\u001b[47m1 Resultados = [1] Prediccion\n",
            "\u001b[34m\u001b[47m1 Resultados = [1] Prediccion\n",
            "\u001b[34m\u001b[47m1 Resultados = [1] Prediccion\n",
            "\u001b[31m0 Resultados = [1] Prediccion\n",
            "\u001b[34m\u001b[47m1 Resultados = [1] Prediccion\n",
            "\u001b[34m\u001b[47m1 Resultados = [1] Prediccion\n",
            "\u001b[34m\u001b[47m1 Resultados = [1] Prediccion\n",
            "\u001b[34m\u001b[47m1 Resultados = [1] Prediccion\n",
            "\u001b[34m\u001b[47m1 Resultados = [1] Prediccion\n",
            "\u001b[34m\u001b[47m1 Resultados = [1] Prediccion\n",
            "0.7555555555555555\n",
            "0.4222222222222222 0.17777777777777778\n",
            "0.06666666666666667 0.3333333333333333\n"
          ],
          "name": "stdout"
        }
      ]
    },
    {
      "cell_type": "code",
      "metadata": {
        "id": "ROGiEktCgDa1",
        "colab_type": "code",
        "colab": {}
      },
      "source": [
        "predictions = model.predict(validation_x)"
      ],
      "execution_count": null,
      "outputs": []
    },
    {
      "cell_type": "code",
      "metadata": {
        "id": "2wKuCvC6W2EU",
        "colab_type": "code",
        "colab": {
          "base_uri": "https://localhost:8080/",
          "height": 617
        },
        "outputId": "59f8d4ff-5976-4dc6-8061-53c1a45360c6"
      },
      "source": [
        "from colorama import init,Fore,Back,Style\n",
        "count=0\n",
        "for i,c in enumerate(predictions):\n",
        "    if(np.argmax(predictions[i])==validation_y[i]):\n",
        "      count=count+1\n",
        "      print(Fore.BLUE+Back.WHITE+\"{} Resultados = {} Prediccion\".format(np.argmax(c), validation_y[i]))\n",
        "    else:\n",
        "      print(Fore.RED+\"{} Resultados = {} Prediccion\".format(np.argmax(c), validation_y[i]))\n",
        "print(count/num_validation_examples)"
      ],
      "execution_count": null,
      "outputs": [
        {
          "output_type": "stream",
          "text": [
            "\u001b[34m\u001b[47m1 Resultados = [1] Prediccion\n",
            "\u001b[31m1 Resultados = [0] Prediccion\n",
            "\u001b[31m1 Resultados = [0] Prediccion\n",
            "\u001b[31m1 Resultados = [0] Prediccion\n",
            "\u001b[31m1 Resultados = [0] Prediccion\n",
            "\u001b[31m1 Resultados = [0] Prediccion\n",
            "\u001b[31m1 Resultados = [0] Prediccion\n",
            "\u001b[31m1 Resultados = [0] Prediccion\n",
            "\u001b[31m1 Resultados = [0] Prediccion\n",
            "\u001b[31m1 Resultados = [0] Prediccion\n",
            "\u001b[31m1 Resultados = [0] Prediccion\n",
            "\u001b[31m1 Resultados = [0] Prediccion\n",
            "\u001b[31m1 Resultados = [0] Prediccion\n",
            "\u001b[31m1 Resultados = [0] Prediccion\n",
            "\u001b[31m1 Resultados = [0] Prediccion\n",
            "\u001b[34m\u001b[47m1 Resultados = [1] Prediccion\n",
            "\u001b[34m\u001b[47m1 Resultados = [1] Prediccion\n",
            "\u001b[31m1 Resultados = [0] Prediccion\n",
            "\u001b[34m\u001b[47m1 Resultados = [1] Prediccion\n",
            "\u001b[31m1 Resultados = [0] Prediccion\n",
            "\u001b[31m1 Resultados = [0] Prediccion\n",
            "\u001b[34m\u001b[47m1 Resultados = [1] Prediccion\n",
            "\u001b[34m\u001b[47m1 Resultados = [1] Prediccion\n",
            "\u001b[34m\u001b[47m1 Resultados = [1] Prediccion\n",
            "\u001b[31m1 Resultados = [0] Prediccion\n",
            "\u001b[34m\u001b[47m1 Resultados = [1] Prediccion\n",
            "\u001b[31m1 Resultados = [0] Prediccion\n",
            "\u001b[34m\u001b[47m1 Resultados = [1] Prediccion\n",
            "\u001b[31m1 Resultados = [0] Prediccion\n",
            "\u001b[34m\u001b[47m1 Resultados = [1] Prediccion\n",
            "\u001b[34m\u001b[47m1 Resultados = [1] Prediccion\n",
            "\u001b[31m1 Resultados = [0] Prediccion\n",
            "0.34375\n"
          ],
          "name": "stdout"
        }
      ]
    },
    {
      "cell_type": "code",
      "metadata": {
        "id": "PDXybopuRtXu",
        "colab_type": "code",
        "colab": {}
      },
      "source": [
        "predictions1 = model1.predict(validation_x)"
      ],
      "execution_count": null,
      "outputs": []
    },
    {
      "cell_type": "code",
      "metadata": {
        "id": "3VEqQqbBgHl5",
        "colab_type": "code",
        "colab": {
          "base_uri": "https://localhost:8080/",
          "height": 617
        },
        "outputId": "27da3a6c-197f-49b4-c920-fff5097624dd"
      },
      "source": [
        "count=0\n",
        "falso_N=0\n",
        "falso_P=0\n",
        "\n",
        "for i,c in enumerate(predictions1):\n",
        "    if(np.argmax(predictions1[i])==validation_y[i]):\n",
        "      count=count+1\n",
        "      print(Fore.BLUE+Back.WHITE+\"{} Resultados = {} Prediccion\".format(np.argmax(c), validation_y[i]))\n",
        "    else:\n",
        "      print(Fore.RED+Back.WHITE+\"{} Resultados = {} Prediccion\".format(np.argmax(c), validation_y[i]))\n",
        "print(count/num_validation_examples)\n"
      ],
      "execution_count": null,
      "outputs": [
        {
          "output_type": "stream",
          "text": [
            "\u001b[34m\u001b[47m1 Resultados = [1] Prediccion\n",
            "\u001b[31m\u001b[47m1 Resultados = [0] Prediccion\n",
            "\u001b[31m\u001b[47m1 Resultados = [0] Prediccion\n",
            "\u001b[31m\u001b[47m1 Resultados = [0] Prediccion\n",
            "\u001b[31m\u001b[47m1 Resultados = [0] Prediccion\n",
            "\u001b[31m\u001b[47m1 Resultados = [0] Prediccion\n",
            "\u001b[31m\u001b[47m1 Resultados = [0] Prediccion\n",
            "\u001b[31m\u001b[47m1 Resultados = [0] Prediccion\n",
            "\u001b[31m\u001b[47m1 Resultados = [0] Prediccion\n",
            "\u001b[31m\u001b[47m1 Resultados = [0] Prediccion\n",
            "\u001b[31m\u001b[47m1 Resultados = [0] Prediccion\n",
            "\u001b[31m\u001b[47m1 Resultados = [0] Prediccion\n",
            "\u001b[31m\u001b[47m1 Resultados = [0] Prediccion\n",
            "\u001b[31m\u001b[47m1 Resultados = [0] Prediccion\n",
            "\u001b[31m\u001b[47m1 Resultados = [0] Prediccion\n",
            "\u001b[34m\u001b[47m1 Resultados = [1] Prediccion\n",
            "\u001b[34m\u001b[47m1 Resultados = [1] Prediccion\n",
            "\u001b[31m\u001b[47m1 Resultados = [0] Prediccion\n",
            "\u001b[34m\u001b[47m1 Resultados = [1] Prediccion\n",
            "\u001b[31m\u001b[47m1 Resultados = [0] Prediccion\n",
            "\u001b[31m\u001b[47m1 Resultados = [0] Prediccion\n",
            "\u001b[34m\u001b[47m1 Resultados = [1] Prediccion\n",
            "\u001b[34m\u001b[47m1 Resultados = [1] Prediccion\n",
            "\u001b[34m\u001b[47m1 Resultados = [1] Prediccion\n",
            "\u001b[31m\u001b[47m1 Resultados = [0] Prediccion\n",
            "\u001b[34m\u001b[47m1 Resultados = [1] Prediccion\n",
            "\u001b[31m\u001b[47m1 Resultados = [0] Prediccion\n",
            "\u001b[34m\u001b[47m1 Resultados = [1] Prediccion\n",
            "\u001b[31m\u001b[47m1 Resultados = [0] Prediccion\n",
            "\u001b[34m\u001b[47m1 Resultados = [1] Prediccion\n",
            "\u001b[34m\u001b[47m1 Resultados = [1] Prediccion\n",
            "\u001b[31m\u001b[47m1 Resultados = [0] Prediccion\n",
            "0.34375\n"
          ],
          "name": "stdout"
        }
      ]
    },
    {
      "cell_type": "code",
      "metadata": {
        "id": "2TKv2zTkksbS",
        "colab_type": "code",
        "colab": {
          "base_uri": "https://localhost:8080/",
          "height": 283
        },
        "outputId": "e85257db-7195-4fb2-d183-144c1af401db"
      },
      "source": [
        "datos = [[90.24, 89], [75.55, 77.7]]\n",
        "X = np.arange(2)\n",
        "plt.grid(True)\n",
        "plt.bar(X + 0.00, datos[0], width = 0.25)\n",
        "plt.bar(X + 0.25, datos[1], width = 0.25)\n",
        "plt.xticks(X+0.10, [\"Modelo ANN\",\"Modelo SVMR\"])\n",
        "plt.ylabel(\"Precisión\")"
      ],
      "execution_count": null,
      "outputs": [
        {
          "output_type": "execute_result",
          "data": {
            "text/plain": [
              "Text(0, 0.5, 'Precisión')"
            ]
          },
          "metadata": {
            "tags": []
          },
          "execution_count": 52
        },
        {
          "output_type": "display_data",
          "data": {
            "image/png": "[encoded data removed]",
            "text/plain": [
              "<Figure size 432x288 with 1 Axes>"
            ]
          },
          "metadata": {
            "tags": [],
            "needs_background": "light"
          }
        }
      ]
    }
  ]
}